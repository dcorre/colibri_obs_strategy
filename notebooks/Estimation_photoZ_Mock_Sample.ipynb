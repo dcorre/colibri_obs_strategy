{
 "cells": [
  {
   "cell_type": "markdown",
   "metadata": {},
   "source": [
    "# Colibri photoZ study on a mock sample of GRBs"
   ]
  },
  {
   "cell_type": "markdown",
   "metadata": {},
   "source": [
    "Aim: create a mock sample of GRBs and study the detection efficiency and reliability of photometric redshift estimation for 2 observational strategies."
   ]
  },
  {
   "cell_type": "code",
   "execution_count": 1,
   "metadata": {},
   "outputs": [],
   "source": [
    "%reload_ext autoreload\n",
    "%autoreload 2\n",
    "\n",
    "import matplotlib.pyplot as plt\n",
    "import numpy as np\n",
    "from astropy.io import ascii\n",
    "import hjson\n",
    "import os, shutil\n",
    "import subprocess as sp\n",
    "import imp\n",
    "from astropy.table import vstack, Table\n",
    "\n",
    "# Find location of pyGRBz module\n",
    "_, path_pyGRBz, _ = imp.find_module('pyGRBz')"
   ]
  },
  {
   "cell_type": "code",
   "execution_count": 2,
   "metadata": {},
   "outputs": [],
   "source": [
    "# Some parameters\n",
    "configFile = 'Colibri_photoZ_mock.hjson'\n",
    "name_telescope = 'colibri'\n",
    "resdir = 'Mock_emp'\n",
    "mock_type = 'empirical'\n",
    "add_dusty_GRBs = True\n",
    "nb_GRBs = 10\n",
    "nb_dusty_GRBs = 5\n",
    "display_plot=False"
   ]
  },
  {
   "cell_type": "markdown",
   "metadata": {},
   "source": [
    "# Update transmission curves"
   ]
  },
  {
   "cell_type": "code",
   "execution_count": 3,
   "metadata": {},
   "outputs": [],
   "source": [
    "# Create latest transmission curves to the transmission folder of pyGRBz\n",
    "from pyETC.pyETC import etc\n",
    "\n",
    "# Filters to use\n",
    "filters = ['g','r','i','z','y','gri','zy','J','H']\n",
    "\n",
    "etc_colibri=etc(configFile=configFile,name_telescope=name_telescope)\n",
    "\n",
    "# Change wavelength sampling with step of 10nm\n",
    "etc_colibri.information[\"lambda_start\"]= 0.29\n",
    "etc_colibri.information[\"lambda_end\"]= 2.5\n",
    "etc_colibri.information[\"lambda_step\"]= 0.01\n",
    "\n",
    "for band in filters:\n",
    "    etc_colibri.information[\"filter_band\"] = band\n",
    "    if band in ['gri','g','r','i']:\n",
    "        etc_colibri.information['channel']='DDRAGO-B'\n",
    "    elif band in ['zy','z','y']:\n",
    "        etc_colibri.information['channel']='DDRAGO-R'\n",
    "    elif band in ['J','H']:\n",
    "        etc_colibri.information['channel']='CAGIRE'    \n",
    "    etc_colibri.sim()\n",
    "    x = etc_colibri.information['wavelength_ang'] / 10\n",
    "    y = etc_colibri.information['system_response']\n",
    "    np.savetxt(path_pyGRBz+'/transmissions/colibri/'+'%s.txt' % band,np.array([x,y]).T,fmt='%.2f %.4f')\n"
   ]
  },
  {
   "cell_type": "markdown",
   "metadata": {},
   "source": [
    "# Define observational strategy"
   ]
  },
  {
   "cell_type": "code",
   "execution_count": 5,
   "metadata": {},
   "outputs": [],
   "source": [
    "# Load package\n",
    "from colibri_obs_strategy.build_lc import obs_strategy\n",
    "\n",
    "obs_strat=obs_strategy(resdir=resdir,plot=display_plot)"
   ]
  },
  {
   "cell_type": "code",
   "execution_count": 6,
   "metadata": {},
   "outputs": [],
   "source": [
    "#Choose filters for each channel.\n",
    "# For each channel, the first list corresponds to the filters to use prior to detection.\n",
    "# The second list to filters to use after detection\n",
    "obs_strat.set_filters(vis1=[['gri'],['g','r','i']],\n",
    "                      vis2=[['zy'],['z','y']],\n",
    "                      nir=[['J'],['J','H']])\n",
    "\n",
    "#If only 2 channels, just write None, for example nir=None or vis2=None\n",
    "#obs_strat.set_filters(vis1=None,\n",
    "#                      vis2=[['zy'],['z','y']],\n",
    "#                      nir=[['J'],['J']])"
   ]
  },
  {
   "cell_type": "code",
   "execution_count": 7,
   "metadata": {},
   "outputs": [
    {
     "data": {
      "text/html": [
       "<i>Table length=27</i>\n",
       "<table id=\"table140674119153704\" class=\"table-striped table-bordered table-condensed\">\n",
       "<thead><tr><th>Name</th><th>Nb_obs</th><th>time_since_burst</th><th>Exp_time</th><th>band</th><th>telescope</th><th>mag</th><th>mag_err</th><th>detection</th><th>phot_sys</th></tr></thead>\n",
       "<thead><tr><th></th><th></th><th>s</th><th>s</th><th></th><th></th><th></th><th></th><th></th><th></th></tr></thead>\n",
       "<thead><tr><th>object</th><th>int64</th><th>int64</th><th>int64</th><th>str3</th><th>str7</th><th>float64</th><th>float64</th><th>int64</th><th>str2</th></tr></thead>\n",
       "<tr><td>None</td><td>1</td><td>60</td><td>30</td><td>gri</td><td>colibri</td><td>-99.000</td><td>-99.000</td><td>0</td><td>AB</td></tr>\n",
       "<tr><td>None</td><td>1</td><td>60</td><td>30</td><td>zy</td><td>colibri</td><td>-99.000</td><td>-99.000</td><td>0</td><td>AB</td></tr>\n",
       "<tr><td>None</td><td>1</td><td>60</td><td>30</td><td>J</td><td>colibri</td><td>-99.000</td><td>-99.000</td><td>0</td><td>AB</td></tr>\n",
       "<tr><td>None</td><td>2</td><td>95</td><td>30</td><td>gri</td><td>colibri</td><td>-99.000</td><td>-99.000</td><td>0</td><td>AB</td></tr>\n",
       "<tr><td>None</td><td>2</td><td>95</td><td>30</td><td>zy</td><td>colibri</td><td>-99.000</td><td>-99.000</td><td>0</td><td>AB</td></tr>\n",
       "<tr><td>None</td><td>2</td><td>95</td><td>30</td><td>J</td><td>colibri</td><td>-99.000</td><td>-99.000</td><td>0</td><td>AB</td></tr>\n",
       "<tr><td>None</td><td>3</td><td>130</td><td>30</td><td>gri</td><td>colibri</td><td>-99.000</td><td>-99.000</td><td>0</td><td>AB</td></tr>\n",
       "<tr><td>None</td><td>3</td><td>130</td><td>30</td><td>zy</td><td>colibri</td><td>-99.000</td><td>-99.000</td><td>0</td><td>AB</td></tr>\n",
       "<tr><td>None</td><td>3</td><td>130</td><td>30</td><td>J</td><td>colibri</td><td>-99.000</td><td>-99.000</td><td>0</td><td>AB</td></tr>\n",
       "<tr><td>...</td><td>...</td><td>...</td><td>...</td><td>...</td><td>...</td><td>...</td><td>...</td><td>...</td><td>...</td></tr>\n",
       "<tr><td>None</td><td>6</td><td>235</td><td>30</td><td>J</td><td>colibri</td><td>-99.000</td><td>-99.000</td><td>0</td><td>AB</td></tr>\n",
       "<tr><td>None</td><td>7</td><td>270</td><td>30</td><td>gri</td><td>colibri</td><td>-99.000</td><td>-99.000</td><td>0</td><td>AB</td></tr>\n",
       "<tr><td>None</td><td>7</td><td>270</td><td>30</td><td>zy</td><td>colibri</td><td>-99.000</td><td>-99.000</td><td>0</td><td>AB</td></tr>\n",
       "<tr><td>None</td><td>7</td><td>270</td><td>30</td><td>J</td><td>colibri</td><td>-99.000</td><td>-99.000</td><td>0</td><td>AB</td></tr>\n",
       "<tr><td>None</td><td>8</td><td>305</td><td>30</td><td>gri</td><td>colibri</td><td>-99.000</td><td>-99.000</td><td>0</td><td>AB</td></tr>\n",
       "<tr><td>None</td><td>8</td><td>305</td><td>30</td><td>zy</td><td>colibri</td><td>-99.000</td><td>-99.000</td><td>0</td><td>AB</td></tr>\n",
       "<tr><td>None</td><td>8</td><td>305</td><td>30</td><td>J</td><td>colibri</td><td>-99.000</td><td>-99.000</td><td>0</td><td>AB</td></tr>\n",
       "<tr><td>None</td><td>9</td><td>340</td><td>30</td><td>gri</td><td>colibri</td><td>-99.000</td><td>-99.000</td><td>0</td><td>AB</td></tr>\n",
       "<tr><td>None</td><td>9</td><td>340</td><td>30</td><td>zy</td><td>colibri</td><td>-99.000</td><td>-99.000</td><td>0</td><td>AB</td></tr>\n",
       "<tr><td>None</td><td>9</td><td>340</td><td>30</td><td>J</td><td>colibri</td><td>-99.000</td><td>-99.000</td><td>0</td><td>AB</td></tr>\n",
       "</table>"
      ],
      "text/plain": [
       "<Table length=27>\n",
       " Name  Nb_obs time_since_burst Exp_time ...   mag   mag_err detection phot_sys\n",
       "                     s            s     ...                                   \n",
       "object int64       int64        int64   ... float64 float64   int64     str2  \n",
       "------ ------ ---------------- -------- ... ------- ------- --------- --------\n",
       "  None      1               60       30 ... -99.000 -99.000         0       AB\n",
       "  None      1               60       30 ... -99.000 -99.000         0       AB\n",
       "  None      1               60       30 ... -99.000 -99.000         0       AB\n",
       "  None      2               95       30 ... -99.000 -99.000         0       AB\n",
       "  None      2               95       30 ... -99.000 -99.000         0       AB\n",
       "  None      2               95       30 ... -99.000 -99.000         0       AB\n",
       "  None      3              130       30 ... -99.000 -99.000         0       AB\n",
       "  None      3              130       30 ... -99.000 -99.000         0       AB\n",
       "  None      3              130       30 ... -99.000 -99.000         0       AB\n",
       "   ...    ...              ...      ... ...     ...     ...       ...      ...\n",
       "  None      6              235       30 ... -99.000 -99.000         0       AB\n",
       "  None      7              270       30 ... -99.000 -99.000         0       AB\n",
       "  None      7              270       30 ... -99.000 -99.000         0       AB\n",
       "  None      7              270       30 ... -99.000 -99.000         0       AB\n",
       "  None      8              305       30 ... -99.000 -99.000         0       AB\n",
       "  None      8              305       30 ... -99.000 -99.000         0       AB\n",
       "  None      8              305       30 ... -99.000 -99.000         0       AB\n",
       "  None      9              340       30 ... -99.000 -99.000         0       AB\n",
       "  None      9              340       30 ... -99.000 -99.000         0       AB\n",
       "  None      9              340       30 ... -99.000 -99.000         0       AB"
      ]
     },
     "execution_count": 7,
     "metadata": {},
     "output_type": "execute_result"
    }
   ],
   "source": [
    "# Load strategy from file\n",
    "#obs_strat.set_strategy_obs(load_strategy=True,filename='Default_strategy.hjson')\n",
    "\n",
    "# Create the astropy table with the time schedule of observations and corresponding bands\n",
    "# magnitude and associated errors are set to -99\n",
    "obs_strat.set_strategy_obs(load_strategy=False,\n",
    "                           t_since_burst=60,\n",
    "                           t_start=0,\n",
    "                           t_end=300,\n",
    "                           t_dead=5,\n",
    "                           texp=[30,30],\n",
    "                           filter_set=0)"
   ]
  },
  {
   "cell_type": "markdown",
   "metadata": {},
   "source": [
    "## Mock samples generation"
   ]
  },
  {
   "cell_type": "code",
   "execution_count": 8,
   "metadata": {
    "scrolled": true
   },
   "outputs": [
    {
     "name": "stderr",
     "output_type": "stream",
     "text": [
      "/home/corre/codes/mygithub/colibri_obs_strategy/colibri_obs_strategy/build_lc.py:458: VisibleDeprecationWarning: Passing `normed=True` on non-uniform bins has always been broken, and computes neither the probability density function nor the probability mass function. The result is only correct if the bins are uniform, when density=True will produce the same result anyway. The argument will be removed in a future version of numpy.\n",
      "  hist = np.histogram(distrib['Rc'], bins=13,normed=True,range=(np.min(distrib['Rc']),np.max(distrib['Rc'])))\n",
      "/home/corre/codes/mygithub/colibri_obs_strategy/colibri_obs_strategy/build_lc.py:825: MatplotlibDeprecationWarning: \n",
      "The 'normed' kwarg was deprecated in Matplotlib 2.1 and will be removed in 3.1. Use 'density' instead.\n",
      "  n, bins, patches = plt.hist(distrib,bins=int(num_bins),normed=0, facecolor='c')#,alpha=0.5)\n"
     ]
    },
    {
     "name": "stdout",
     "output_type": "stream",
     "text": [
      " name   z   Av_host ExtLaw    F0     wvl0   t0  alpha beta  Rc \n",
      "------ ---- ------- ------ -------- ------ ---- ----- ---- ----\n",
      " GRB_0 0.27    0.24    smc    0.437 6400.0 86.4  1.19 0.63 12.3\n",
      " GRB_1 7.39    0.23    smc  0.00181 6400.0 86.4  0.56 0.88 11.4\n",
      " GRB_2 5.89     0.2    smc   0.0203 6400.0 86.4  1.28 0.76 10.3\n",
      " GRB_3 9.44    0.27    smc  0.00444 6400.0 86.4  1.31 0.15 12.7\n",
      " GRB_4 9.58    0.31    lmc 0.000469 6400.0 86.4  0.92 1.18 12.5\n",
      " GRB_5 2.93    0.28    smc  0.00105 6400.0 86.4  1.07  1.1 14.0\n",
      " GRB_6 7.27    0.43    smc   0.0148 6400.0 86.4  0.88 0.75 9.85\n",
      " GRB_7 4.52    0.36     mw   0.0963 6400.0 86.4  1.16 0.46 9.15\n",
      " GRB_8 3.41    0.04     mw    0.202 6400.0 86.4  0.32 1.14 7.36\n",
      " GRB_9  5.4    0.08    lmc    0.002 6400.0 86.4  1.26  0.8 12.9\n",
      "GRB_10 2.84     1.2    lmc 2.23e-05 6400.0 86.4  1.88 0.19 19.5\n",
      "GRB_11 2.26    1.71    lmc   0.0946 6400.0 86.4  1.12  0.3 10.1\n",
      "GRB_12 1.35    1.29    lmc 0.000583 6400.0 86.4  1.09 0.48 16.3\n",
      "GRB_13 1.34    2.07     mw  0.00568 6400.0 86.4  1.04 1.15 13.7\n",
      "GRB_14 2.09    2.03    lmc  0.00673 6400.0 86.4  0.89 0.58 12.8\n"
     ]
    },
    {
     "name": "stderr",
     "output_type": "stream",
     "text": [
      "/home/corre/codes/mygithub/colibri_obs_strategy/colibri_obs_strategy/build_lc.py:819: RuntimeWarning: More than 20 figures have been opened. Figures created through the pyplot interface (`matplotlib.pyplot.figure`) are retained until explicitly closed and may consume too much memory. (To control this warning, see the rcParam `figure.max_open_warning`).\n",
      "  plt.figure()\n"
     ]
    },
    {
     "data": {
      "image/png": "[encoded data removed]",
      "text/plain": [
       "<Figure size 432x288 with 1 Axes>"
      ]
     },
     "metadata": {
      "needs_background": "light"
     },
     "output_type": "display_data"
    },
    {
     "data": {
      "image/png": "[encoded data removed]",
      "text/plain": [
       "<Figure size 432x288 with 1 Axes>"
      ]
     },
     "metadata": {
      "needs_background": "light"
     },
     "output_type": "display_data"
    },
    {
     "data": {
      "image/png": "[encoded data removed]",
      "text/plain": [
       "<Figure size 432x288 with 1 Axes>"
      ]
     },
     "metadata": {
      "needs_background": "light"
     },
     "output_type": "display_data"
    },
    {
     "data": {
      "image/png": "[encoded data removed]",
      "text/plain": [
       "<Figure size 432x288 with 1 Axes>"
      ]
     },
     "metadata": {
      "needs_background": "light"
     },
     "output_type": "display_data"
    },
    {
     "data": {
      "image/png": "[encoded data removed]",
      "text/plain": [
       "<Figure size 432x288 with 1 Axes>"
      ]
     },
     "metadata": {
      "needs_background": "light"
     },
     "output_type": "display_data"
    },
    {
     "data": {
      "image/png": "[encoded data removed]",
      "text/plain": [
       "<Figure size 432x288 with 1 Axes>"
      ]
     },
     "metadata": {
      "needs_background": "light"
     },
     "output_type": "display_data"
    },
    {
     "data": {
      "image/png": "[encoded data removed]",
      "text/plain": [
       "<Figure size 432x288 with 1 Axes>"
      ]
     },
     "metadata": {
      "needs_background": "light"
     },
     "output_type": "display_data"
    },
    {
     "data": {
      "image/png": "[encoded data removed]",
      "text/plain": [
       "<Figure size 432x288 with 1 Axes>"
      ]
     },
     "metadata": {
      "needs_background": "light"
     },
     "output_type": "display_data"
    },
    {
     "data": {
      "image/png": "[encoded data removed]",
      "text/plain": [
       "<Figure size 432x288 with 1 Axes>"
      ]
     },
     "metadata": {
      "needs_background": "light"
     },
     "output_type": "display_data"
    },
    {
     "data": {
      "image/png": "[encoded data removed]",
      "text/plain": [
       "<Figure size 432x288 with 1 Axes>"
      ]
     },
     "metadata": {
      "needs_background": "light"
     },
     "output_type": "display_data"
    },
    {
     "data": {
      "image/png": "[encoded data removed]",
      "text/plain": [
       "<Figure size 432x288 with 1 Axes>"
      ]
     },
     "metadata": {
      "needs_background": "light"
     },
     "output_type": "display_data"
    },
    {
     "data": {
      "image/png": "[encoded data removed]",
      "text/plain": [
       "<Figure size 432x288 with 1 Axes>"
      ]
     },
     "metadata": {
      "needs_background": "light"
     },
     "output_type": "display_data"
    },
    {
     "data": {
      "image/png": "[encoded data removed]",
      "text/plain": [
       "<Figure size 432x288 with 1 Axes>"
      ]
     },
     "metadata": {
      "needs_background": "light"
     },
     "output_type": "display_data"
    },
    {
     "data": {
      "image/png": "[encoded data removed]",
      "text/plain": [
       "<Figure size 432x288 with 1 Axes>"
      ]
     },
     "metadata": {
      "needs_background": "light"
     },
     "output_type": "display_data"
    },
    {
     "data": {
      "image/png": "[encoded data removed]",
      "text/plain": [
       "<Figure size 432x288 with 1 Axes>"
      ]
     },
     "metadata": {
      "needs_background": "light"
     },
     "output_type": "display_data"
    },
    {
     "data": {
      "image/png": "[encoded data removed]",
      "text/plain": [
       "<Figure size 432x288 with 1 Axes>"
      ]
     },
     "metadata": {
      "needs_background": "light"
     },
     "output_type": "display_data"
    },
    {
     "data": {
      "image/png": "[encoded data removed]",
      "text/plain": [
       "<Figure size 432x288 with 1 Axes>"
      ]
     },
     "metadata": {
      "needs_background": "light"
     },
     "output_type": "display_data"
    },
    {
     "data": {
      "image/png": "[encoded data removed]",
      "text/plain": [
       "<Figure size 432x288 with 1 Axes>"
      ]
     },
     "metadata": {
      "needs_background": "light"
     },
     "output_type": "display_data"
    },
    {
     "data": {
      "image/png": "[encoded data removed]",
      "text/plain": [
       "<Figure size 432x288 with 1 Axes>"
      ]
     },
     "metadata": {
      "needs_background": "light"
     },
     "output_type": "display_data"
    },
    {
     "data": {
      "image/png": "[encoded data removed]",
      "text/plain": [
       "<Figure size 432x288 with 1 Axes>"
      ]
     },
     "metadata": {
      "needs_background": "light"
     },
     "output_type": "display_data"
    },
    {
     "data": {
      "image/png": "[encoded data removed]",
      "text/plain": [
       "<Figure size 432x288 with 1 Axes>"
      ]
     },
     "metadata": {
      "needs_background": "light"
     },
     "output_type": "display_data"
    },
    {
     "data": {
      "image/png": "[encoded data removed]",
      "text/plain": [
       "<Figure size 432x288 with 1 Axes>"
      ]
     },
     "metadata": {
      "needs_background": "light"
     },
     "output_type": "display_data"
    },
    {
     "data": {
      "image/png": "[encoded data removed]",
      "text/plain": [
       "<Figure size 432x288 with 1 Axes>"
      ]
     },
     "metadata": {
      "needs_background": "light"
     },
     "output_type": "display_data"
    },
    {
     "data": {
      "image/png": "[encoded data removed]",
      "text/plain": [
       "<Figure size 432x288 with 1 Axes>"
      ]
     },
     "metadata": {
      "needs_background": "light"
     },
     "output_type": "display_data"
    },
    {
     "data": {
      "image/png": "[encoded data removed]",
      "text/plain": [
       "<Figure size 432x288 with 1 Axes>"
      ]
     },
     "metadata": {
      "needs_background": "light"
     },
     "output_type": "display_data"
    },
    {
     "data": {
      "image/png": "[encoded data removed]",
      "text/plain": [
       "<Figure size 432x288 with 1 Axes>"
      ]
     },
     "metadata": {
      "needs_background": "light"
     },
     "output_type": "display_data"
    }
   ],
   "source": [
    "# Create the astropy table containing the parameters for the desired number of samples\n",
    "# Load existing file if you want to compare different strategies efficiency\n",
    "\n",
    "if mock_type == 'empirical':\n",
    "        \n",
    "    # Choose the GRB, redshift and host extinction parameters\n",
    "    # This dictionary is expected in set_grb_params where the values will be updated if needed.\n",
    "    # Av, alpha, beta, t0, wvl0 Parameters taken form Kann et al. 2010\n",
    "    params=dict(\n",
    "            z=['truncnorm',5.5,3.5,0,10],\n",
    "            #z=['constant',4],\n",
    "            #Av_host=['constant',0.5],\n",
    "            Av_host=['truncnorm',0.1,0.3,0,2],\n",
    "            #Av_host=['truncnorm',0.21,0.24,0,2],\n",
    "            #Av_host=['truncnorm',0.1,0.5,0.,10],\n",
    "            beta=['truncnorm',0.7,0.3,0,2],\n",
    "            alpha=['truncnorm',1.2,0.38,0,2],\n",
    "            wvl0=['constant',6400],\n",
    "            t0=['constant',86.4],\n",
    "            #ExtLaw=['smc'],\n",
    "            ExtLaw=['smc','smc','smc','lmc','mw']\n",
    "            )\n",
    "        \n",
    "    obs_strat.set_grb_params(params,\n",
    "                             num_samples=nb_GRBs,\n",
    "                             random_flag=True,\n",
    "                             model='kann',\n",
    "                             load_params=False,\n",
    "                             params_file=path_pyGRBz+'/results/'+resdir+'/Obs_strategy/Params.tex',\n",
    "                             load_min=1,\n",
    "                             load_max=500,\n",
    "                             load_distrib=True,\n",
    "                             #distrib_file='Granot_Sari/Turpin_GS02_v2.txt',\n",
    "                             distrib_file='Kann/Rc_86s_z=1.txt',\n",
    "                             plot_distribution=display_plot,\n",
    "                             seed=-1)\n",
    "elif mock_type == 'theoretical':\n",
    "    params=dict(\n",
    "            z=['truncnorm',5.5,3.5,0,10],\n",
    "            #Av_host=['constant',0.5],\n",
    "            Av_host=['truncnorm',0.1,0.3,0,2],\n",
    "            #Av_host=['truncnorm',0.21,0.24,0,2],\n",
    "            #Av_host=['truncnorm',0.1,0.5,0.,10],\n",
    "            ExtLaw=['smc','smc','smc','lmc','mw'],\n",
    "            E_iso=['constant',56],\n",
    "            eta=['constant',0.3],\n",
    "            eps_b=['constant',1e-4],\n",
    "            eps_e=['constant',0.1],\n",
    "            p=['constant',2.3],\n",
    "            Y=['constant',0],\n",
    "            ism_type=['constant',0],\n",
    "            n0=['constant',1],\n",
    "            Mdot_loss=['constant',1e-5],\n",
    "            Vw=['constant',1000],\n",
    "            )\n",
    "    \n",
    "    obs_strat.set_grb_params(params,\n",
    "                             num_samples=nb_GRBs,\n",
    "                             random_flag=True,\n",
    "                             model='gs02',\n",
    "                             load_params=False,\n",
    "                             params_file=path_pyGRBz+'/results/'+resdir+'/Obs_strategy/Params.tex',\n",
    "                             load_min=1,\n",
    "                             load_max=500,\n",
    "                             load_distrib=True,\n",
    "                             distrib_file='Granot_Sari/Turpin_GS02_v2.txt',\n",
    "                             #distrib_file='Kann/Rc_86s_z=1.txt',\n",
    "                             plot_distribution=display_plot,\n",
    "                             seed=-1)\n",
    "    \n",
    "if add_dusty_GRBs:\n",
    "    # Dusty GRBs are found up to z~4, with all type of dust\n",
    "    params['z']=['truncnorm',2,1.,1,4]\n",
    "    params['Av_host']=['truncnorm',1.3,1.1,1,3]\n",
    "    params['ExtLaw']=['smc','lmc','mw']\n",
    "    \n",
    "    # Save parameter values of current mock sample\n",
    "    shutil.copy(path_pyGRBz+'/results/'+resdir+'/Obs_strategy/Params.tex',\n",
    "                path_pyGRBz+'/results/'+resdir+'/Obs_strategy/Params_normal.tex')\n",
    "    backup_mock = ascii.read(path_pyGRBz+'/results/'+resdir+'/Obs_strategy/Params.tex')\n",
    "    last_idx = int(backup_mock['name'][-1].split('_')[-1])\n",
    "    # Compute parameters values for dusty sample\n",
    "    if mock_type == 'empirical':\n",
    "        obs_strat.set_grb_params(params,\n",
    "                                 num_samples=nb_dusty_GRBs,\n",
    "                                 random_flag=True,\n",
    "                                 model='kann',\n",
    "                                 load_params=False,\n",
    "                                 load_distrib=True,\n",
    "                                 distrib_file='Kann/Rc_86s_z=1.txt',\n",
    "                                 plot_distribution=display_plot,\n",
    "                                 seed=-1,\n",
    "                                 name_prefix_start=last_idx+1\n",
    "                                )\n",
    "    elif mock_type == 'theoretical':\n",
    "        obs_strat.set_grb_params(params,\n",
    "                                 num_samples=nb_dusty_GRBs,\n",
    "                                 random_flag=True,\n",
    "                                 model='gs02',\n",
    "                                 load_params=False,\n",
    "                                 distrib_file='Granot_Sari/Turpin_GS02_v2.txt',\n",
    "                                 plot_distribution=display_plot,\n",
    "                                 seed=-1,\n",
    "                                 name_prefix_start=last_idx+1\n",
    "                                )\n",
    "    shutil.copy(path_pyGRBz+'/results/'+resdir+'/Obs_strategy/Params.tex',\n",
    "                path_pyGRBz+'/results/'+resdir+'/Obs_strategy/Params_dusty.tex')    \n",
    "    # Concatenate mock normal + dusty samples\n",
    "    dusty_mock = ascii.read(path_pyGRBz+'/results/'+resdir+'/Obs_strategy/Params_dusty.tex')\n",
    "    total_mock = vstack([backup_mock,dusty_mock])\n",
    "    total_mock.write(path_pyGRBz+'/results/'+resdir+'/Obs_strategy/Params_total.tex',format='latex',overwrite=True)\n",
    "    total_mock.write(path_pyGRBz+'/results/'+resdir+'/Obs_strategy/Params_total.txt',format='ascii.commented_header',overwrite=True)\n",
    "    \n",
    "    # Load combined mock sample before computing light curves\n",
    "    if mock_type == 'empirical':\n",
    "        obs_strat.set_grb_params(params,\n",
    "                                 load_min=1,load_max=len(total_mock),\n",
    "                                 random_flag=True,\n",
    "                                 model='kann',\n",
    "                                 load_params=True,\n",
    "                                 params_file=path_pyGRBz+'/results/'+resdir+'/Obs_strategy/Params_total.tex',\n",
    "                                 load_distrib=False,\n",
    "                                 plot_distribution=display_plot,\n",
    "                                 seed=-1\n",
    "                                )\n",
    "    elif mock_type == 'theoretical':\n",
    "        obs_strat.set_grb_params(params,\n",
    "                                 load_min=1,load_max=len(total_mock),\n",
    "                                 random_flag=True,\n",
    "                                 model='gs02',\n",
    "                                 load_params=True,\n",
    "                                 params_file=path_pyGRBz+'/results/'+resdir+'/Obs_strategy/Params_total.tex',\n",
    "                                 load_distrib=False,\n",
    "                                 plot_distribution=display_plot,\n",
    "                                 seed=-1\n",
    "                                )"
   ]
  },
  {
   "cell_type": "markdown",
   "metadata": {},
   "source": [
    "# Create Light Curves only with ETC"
   ]
  },
  {
   "cell_type": "code",
   "execution_count": 10,
   "metadata": {
    "scrolled": true
   },
   "outputs": [
    {
     "name": "stdout",
     "output_type": "stream",
     "text": [
      "GRB Time Band\n",
      "GRB_0 60 gri\n",
      "GRB detected\n",
      "GRB_0 60 zy\n",
      "GRB_0 60 J\n",
      "GRB_0 95 g\n",
      "GRB_0 95 z\n",
      "GRB_0 95 J\n",
      "GRB_0 130 r\n",
      "GRB_0 130 y\n",
      "GRB_0 130 H\n",
      "GRB_0 165 i\n",
      "GRB_0 165 z\n",
      "GRB_0 165 J\n",
      "GRB_0 200 g\n",
      "GRB_0 200 y\n",
      "GRB_0 200 H\n",
      "GRB_0 235 r\n",
      "GRB_0 235 z\n",
      "GRB_0 235 J\n",
      "GRB_0 270 i\n",
      "GRB_0 270 y\n",
      "GRB_0 270 H\n",
      "GRB_0 305 g\n",
      "GRB_0 305 z\n",
      "GRB_0 305 J\n",
      "GRB_0 340 r\n",
      "GRB_0 340 y\n",
      "GRB_0 340 H\n",
      " Name Nb_obs time_since_burst Exp_time ...  mag   mag_err detection phot_sys\n",
      "                    s            s     ...                                  \n",
      "----- ------ ---------------- -------- ... ------ ------- --------- --------\n",
      "GRB_0      1               60       30 ...  9.963   0.040         1       AB\n",
      "GRB_0      1               60       30 ...  9.519   0.040         1       AB\n",
      "GRB_0      1               60       30 ...  9.199   0.060         1       AB\n",
      "GRB_0      1               95       30 ... 10.656   0.040         1       AB\n",
      "GRB_0      1               95       30 ... 10.086   0.040         1       AB\n",
      "GRB_0      1               95       30 ...  9.817   0.060         1       AB\n",
      "GRB_0      2              130       30 ... 10.749   0.040         1       AB\n",
      "GRB_0      2              130       30 ... 10.380   0.040         1       AB\n",
      "GRB_0      2              130       30 ...  9.818   0.060         1       AB\n",
      "GRB_0      3              165       30 ... 10.776   0.040         1       AB\n",
      "  ...    ...              ...      ... ...    ...     ...       ...      ...\n",
      "GRB_0      5              235       30 ... 10.856   0.060         1       AB\n",
      "GRB_0      6              270       30 ... 11.412   0.040         1       AB\n",
      "GRB_0      6              270       30 ... 11.261   0.040         1       AB\n",
      "GRB_0      6              270       30 ... 10.796   0.060         1       AB\n",
      "GRB_0      7              305       30 ... 12.086   0.040         1       AB\n",
      "GRB_0      7              305       30 ... 11.475   0.040         1       AB\n",
      "GRB_0      7              305       30 ... 11.084   0.060         1       AB\n",
      "GRB_0      8              340       30 ... 11.922   0.040         1       AB\n",
      "GRB_0      8              340       30 ... 11.458   0.040         1       AB\n",
      "GRB_0      8              340       30 ... 11.071   0.060         1       AB\n",
      "Length = 27 rows\n"
     ]
    },
    {
     "name": "stderr",
     "output_type": "stream",
     "text": [
      "/home/corre/codes/mygithub/pyETC/pyETC/photometry.py:331: RuntimeWarning: divide by zero encountered in log10\n",
      "  Mag=-2.5*np.log10(fluxJy/info_dict['Flux_zero_Jy'])\n"
     ]
    },
    {
     "name": "stdout",
     "output_type": "stream",
     "text": [
      "GRB_1 60 gri\n",
      "GRB_1 60 zy\n",
      "GRB_1 60 J\n",
      "GRB detected\n"
     ]
    },
    {
     "name": "stderr",
     "output_type": "stream",
     "text": [
      "/home/corre/codes/mygithub/pyETC/pyETC/solver.py:186: RuntimeWarning: divide by zero encountered in log10\n",
      "  mag = ZP - 2.5*np.log10(CR)\n",
      "/home/corre/codes/mygithub/pyETC/pyETC/solver.py:187: RuntimeWarning: divide by zero encountered in log10\n",
      "  mag_pix = ZP - 2.5*np.log10(CR_pix)\n"
     ]
    },
    {
     "name": "stdout",
     "output_type": "stream",
     "text": [
      "GRB_1 95 g\n",
      "GRB_1 95 z\n",
      "GRB_1 95 J\n",
      "GRB_1 130 r\n",
      "GRB_1 130 y\n",
      "GRB_1 130 H\n",
      "GRB_1 165 i\n",
      "GRB_1 165 z\n",
      "GRB_1 165 J\n",
      "GRB_1 200 g\n",
      "GRB_1 200 y\n",
      "GRB_1 200 H\n",
      "GRB_1 235 r\n",
      "GRB_1 235 z\n",
      "GRB_1 235 J\n",
      "GRB_1 270 i\n",
      "GRB_1 270 y\n",
      "GRB_1 270 H\n",
      "GRB_1 305 g\n",
      "GRB_1 305 z\n",
      "GRB_1 305 J\n",
      "GRB_1 340 r\n",
      "GRB_1 340 y\n",
      "GRB_1 340 H\n",
      " Name Nb_obs time_since_burst Exp_time ...  mag   mag_err detection phot_sys\n",
      "                    s            s     ...                                  \n",
      "----- ------ ---------------- -------- ... ------ ------- --------- --------\n",
      "GRB_1      1               60       30 ... 22.137   0.315         0       AB\n",
      "GRB_1      1               60       30 ... 20.540   0.315         0       AB\n",
      "GRB_1      1               60       30 ... 16.039   0.062         1       AB\n",
      "GRB_1      1               95       30 ... 21.727   0.315         0       AB\n",
      "GRB_1      1               95       30 ... 20.462   0.315         0       AB\n",
      "GRB_1      1               95       30 ... 16.222   0.062         1       AB\n",
      "GRB_1      2              130       30 ... 21.657   0.315         0       AB\n",
      "GRB_1      2              130       30 ... 19.554   0.315         0       AB\n",
      "GRB_1      2              130       30 ... 15.902   0.063         1       AB\n",
      "GRB_1      3              165       30 ... 21.073   0.315         0       AB\n",
      "  ...    ...              ...      ... ...    ...     ...       ...      ...\n",
      "GRB_1      5              235       30 ... 16.721   0.065         1       AB\n",
      "GRB_1      6              270       30 ... 21.073   0.315         0       AB\n",
      "GRB_1      6              270       30 ... 19.554   0.315         0       AB\n",
      "GRB_1      6              270       30 ... 16.393   0.066         1       AB\n",
      "GRB_1      7              305       30 ... 21.727   0.315         0       AB\n",
      "GRB_1      7              305       30 ... 20.462   0.315         0       AB\n",
      "GRB_1      7              305       30 ... 16.825   0.067         1       AB\n",
      "GRB_1      8              340       30 ... 21.657   0.315         0       AB\n",
      "GRB_1      8              340       30 ... 19.554   0.315         0       AB\n",
      "GRB_1      8              340       30 ... 16.508   0.067         1       AB\n",
      "Length = 27 rows\n"
     ]
    },
    {
     "name": "stderr",
     "output_type": "stream",
     "text": [
      "/home/corre/codes/mygithub/pyETC/pyETC/photometry.py:331: RuntimeWarning: divide by zero encountered in log10\n",
      "  Mag=-2.5*np.log10(fluxJy/info_dict['Flux_zero_Jy'])\n"
     ]
    },
    {
     "name": "stdout",
     "output_type": "stream",
     "text": [
      "GRB_2 60 gri\n",
      "GRB detected\n",
      "GRB_2 60 zy\n",
      "GRB_2 60 J\n",
      "GRB_2 95 g\n",
      "GRB_2 95 z\n",
      "GRB_2 95 J\n",
      "GRB_2 130 r\n",
      "GRB_2 130 y\n",
      "GRB_2 130 H\n",
      "GRB_2 165 i\n",
      "GRB_2 165 z\n",
      "GRB_2 165 J\n",
      "GRB_2 200 g\n",
      "GRB_2 200 y\n",
      "GRB_2 200 H\n",
      "GRB_2 235 r\n",
      "GRB_2 235 z\n",
      "GRB_2 235 J\n",
      "GRB_2 270 i\n",
      "GRB_2 270 y\n",
      "GRB_2 270 H\n",
      "GRB_2 305 g\n",
      "GRB_2 305 z\n",
      "GRB_2 305 J\n",
      "GRB_2 340 r\n",
      "GRB_2 340 y\n",
      "GRB_2 340 H\n",
      " Name Nb_obs time_since_burst Exp_time ...  mag   mag_err detection phot_sys\n",
      "                    s            s     ...                                  \n",
      "----- ------ ---------------- -------- ... ------ ------- --------- --------\n",
      "GRB_2      1               60       30 ... 17.815   0.041         1       AB\n",
      "GRB_2      1               60       30 ... 13.887   0.040         1       AB\n",
      "GRB_2      1               60       30 ... 13.057   0.060         1       AB\n",
      "GRB_2      1               95       30 ... 21.727   0.315         0       AB\n",
      "GRB_2      1               95       30 ... 14.554   0.040         1       AB\n",
      "GRB_2      1               95       30 ... 13.681   0.060         1       AB\n",
      "GRB_2      2              130       30 ... 19.441   0.071         1       AB\n",
      "GRB_2      2              130       30 ... 14.491   0.041         1       AB\n",
      "GRB_2      2              130       30 ... 13.577   0.060         1       AB\n",
      "GRB_2      3              165       30 ... 17.919   0.046         1       AB\n",
      "  ...    ...              ...      ... ...    ...     ...       ...      ...\n",
      "GRB_2      5              235       30 ... 14.772   0.060         1       AB\n",
      "GRB_2      6              270       30 ... 18.377   0.054         1       AB\n",
      "GRB_2      6              270       30 ... 15.439   0.043         1       AB\n",
      "GRB_2      6              270       30 ... 14.480   0.060         1       AB\n",
      "GRB_2      7              305       30 ... 21.727   0.315         0       AB\n",
      "GRB_2      7              305       30 ... 16.043   0.042         1       AB\n",
      "GRB_2      7              305       30 ... 15.040   0.060         1       AB\n",
      "GRB_2      8              340       30 ... 20.683   0.162         1       AB\n",
      "GRB_2      8              340       30 ... 15.703   0.044         1       AB\n",
      "GRB_2      8              340       30 ... 14.910   0.061         1       AB\n",
      "Length = 27 rows\n"
     ]
    },
    {
     "name": "stderr",
     "output_type": "stream",
     "text": [
      "/home/corre/codes/mygithub/pyETC/pyETC/photometry.py:331: RuntimeWarning: divide by zero encountered in log10\n",
      "  Mag=-2.5*np.log10(fluxJy/info_dict['Flux_zero_Jy'])\n"
     ]
    },
    {
     "name": "stdout",
     "output_type": "stream",
     "text": [
      "GRB_3 60 gri\n",
      "GRB_3 60 zy\n",
      "GRB_3 60 J\n",
      "GRB detected\n"
     ]
    },
    {
     "name": "stderr",
     "output_type": "stream",
     "text": [
      "/home/corre/codes/mygithub/pyETC/pyETC/solver.py:186: RuntimeWarning: divide by zero encountered in log10\n",
      "  mag = ZP - 2.5*np.log10(CR)\n",
      "/home/corre/codes/mygithub/pyETC/pyETC/solver.py:187: RuntimeWarning: divide by zero encountered in log10\n",
      "  mag_pix = ZP - 2.5*np.log10(CR_pix)\n"
     ]
    },
    {
     "name": "stdout",
     "output_type": "stream",
     "text": [
      "GRB_3 95 g\n",
      "GRB_3 95 z\n",
      "GRB_3 95 J\n",
      "GRB_3 130 r\n",
      "GRB_3 130 y\n",
      "GRB_3 130 H\n",
      "GRB_3 165 i\n",
      "GRB_3 165 z\n",
      "GRB_3 165 J\n",
      "GRB_3 200 g\n",
      "GRB_3 200 y\n",
      "GRB_3 200 H\n",
      "GRB_3 235 r\n",
      "GRB_3 235 z\n",
      "GRB_3 235 J\n",
      "GRB_3 270 i\n",
      "GRB_3 270 y\n",
      "GRB_3 270 H\n",
      "GRB_3 305 g\n",
      "GRB_3 305 z\n",
      "GRB_3 305 J\n",
      "GRB_3 340 r\n",
      "GRB_3 340 y\n",
      "GRB_3 340 H\n",
      " Name Nb_obs time_since_burst Exp_time ...  mag   mag_err detection phot_sys\n",
      "                    s            s     ...                                  \n",
      "----- ------ ---------------- -------- ... ------ ------- --------- --------\n",
      "GRB_3      1               60       30 ... 22.137   0.315         0       AB\n",
      "GRB_3      1               60       30 ... 20.540   0.315         0       AB\n",
      "GRB_3      1               60       30 ... 17.078   0.068         1       AB\n",
      "GRB_3      1               95       30 ... 21.727   0.315         0       AB\n",
      "GRB_3      1               95       30 ... 20.462   0.315         0       AB\n",
      "GRB_3      1               95       30 ... 17.637   0.078         1       AB\n",
      "GRB_3      2              130       30 ... 21.657   0.315         0       AB\n",
      "GRB_3      2              130       30 ... 19.554   0.315         0       AB\n",
      "GRB_3      2              130       30 ... 16.567   0.068         1       AB\n",
      "GRB_3      3              165       30 ... 21.073   0.315         0       AB\n",
      "  ...    ...              ...      ... ...    ...     ...       ...      ...\n",
      "GRB_3      5              235       30 ... 18.723   0.149         1       AB\n",
      "GRB_3      6              270       30 ... 21.073   0.315         0       AB\n",
      "GRB_3      6              270       30 ... 19.554   0.315         0       AB\n",
      "GRB_3      6              270       30 ... 17.530   0.095         1       AB\n",
      "GRB_3      7              305       30 ... 21.727   0.315         0       AB\n",
      "GRB_3      7              305       30 ... 20.462   0.315         0       AB\n",
      "GRB_3      7              305       30 ... 18.778   0.193         1       AB\n",
      "GRB_3      8              340       30 ... 21.657   0.315         0       AB\n",
      "GRB_3      8              340       30 ... 19.554   0.315         0       AB\n",
      "GRB_3      8              340       30 ... 17.838   0.114         1       AB\n",
      "Length = 27 rows\n"
     ]
    },
    {
     "name": "stderr",
     "output_type": "stream",
     "text": [
      "/home/corre/codes/mygithub/pyETC/pyETC/photometry.py:331: RuntimeWarning: divide by zero encountered in log10\n",
      "  Mag=-2.5*np.log10(fluxJy/info_dict['Flux_zero_Jy'])\n"
     ]
    },
    {
     "name": "stdout",
     "output_type": "stream",
     "text": [
      "GRB_4 60 gri\n",
      "GRB_4 60 zy\n",
      "GRB_4 60 J\n",
      "GRB detected\n"
     ]
    },
    {
     "name": "stderr",
     "output_type": "stream",
     "text": [
      "/home/corre/codes/mygithub/pyETC/pyETC/solver.py:186: RuntimeWarning: divide by zero encountered in log10\n",
      "  mag = ZP - 2.5*np.log10(CR)\n",
      "/home/corre/codes/mygithub/pyETC/pyETC/solver.py:187: RuntimeWarning: divide by zero encountered in log10\n",
      "  mag_pix = ZP - 2.5*np.log10(CR_pix)\n"
     ]
    },
    {
     "name": "stdout",
     "output_type": "stream",
     "text": [
      "GRB_4 95 g\n",
      "GRB_4 95 z\n",
      "GRB_4 95 J\n",
      "GRB_4 130 r\n",
      "GRB_4 130 y\n",
      "GRB_4 130 H\n",
      "GRB_4 165 i\n",
      "GRB_4 165 z\n"
     ]
    },
    {
     "ename": "KeyboardInterrupt",
     "evalue": "",
     "output_type": "error",
     "traceback": [
      "\u001b[0;31m---------------------------------------------------------------------------\u001b[0m",
      "\u001b[0;31mKeyboardInterrupt\u001b[0m                         Traceback (most recent call last)",
      "\u001b[0;32m<ipython-input-10-6305e8f14bcb>\u001b[0m in \u001b[0;36m<module>\u001b[0;34m\u001b[0m\n\u001b[1;32m      6\u001b[0m                           \u001b[0mconfigFile\u001b[0m\u001b[0;34m=\u001b[0m\u001b[0mconfigFile\u001b[0m\u001b[0;34m,\u001b[0m\u001b[0mtelescope\u001b[0m\u001b[0;34m=\u001b[0m\u001b[0mname_telescope\u001b[0m\u001b[0;34m,\u001b[0m\u001b[0;34m\u001b[0m\u001b[0;34m\u001b[0m\u001b[0m\n\u001b[1;32m      7\u001b[0m                           \u001b[0mresdir\u001b[0m\u001b[0;34m=\u001b[0m\u001b[0;34m'/data/lc/%s/'\u001b[0m \u001b[0;34m%\u001b[0m \u001b[0mresdir\u001b[0m\u001b[0;34m,\u001b[0m\u001b[0;34m\u001b[0m\u001b[0;34m\u001b[0m\u001b[0m\n\u001b[0;32m----> 8\u001b[0;31m                           fname='',RA_J2000=RA_J2000,DEC_J2000=DEC_J2000,galactic_dust_corrected=True)\n\u001b[0m",
      "\u001b[0;32m~/codes/mygithub/colibri_obs_strategy/colibri_obs_strategy/build_lc.py\u001b[0m in \u001b[0;36mset_lightcurves\u001b[0;34m(self, SNR4detection, err_mag_sys, configFile, telescope, etc_plot, disp, verbose, resdir, fname, RA_J2000, DEC_J2000, galactic_dust_corrected, t_since_burst, t_start, t_end, t_dead, texp)\u001b[0m\n\u001b[1;32m    971\u001b[0m \u001b[0;34m\u001b[0m\u001b[0m\n\u001b[1;32m    972\u001b[0m                \u001b[0;31m#print (obs_table['time_since_burst'][j])\u001b[0m\u001b[0;34m\u001b[0m\u001b[0;34m\u001b[0m\u001b[0;34m\u001b[0m\u001b[0m\n\u001b[0;32m--> 973\u001b[0;31m                \u001b[0metc_GFT\u001b[0m\u001b[0;34m.\u001b[0m\u001b[0msim\u001b[0m\u001b[0;34m(\u001b[0m\u001b[0;34m)\u001b[0m\u001b[0;34m\u001b[0m\u001b[0;34m\u001b[0m\u001b[0m\n\u001b[0m\u001b[1;32m    974\u001b[0m                \u001b[0mmag\u001b[0m\u001b[0;34m=\u001b[0m\u001b[0metc_GFT\u001b[0m\u001b[0;34m.\u001b[0m\u001b[0minformation\u001b[0m\u001b[0;34m[\u001b[0m\u001b[0;34m'mag'\u001b[0m\u001b[0;34m]\u001b[0m\u001b[0;34m\u001b[0m\u001b[0;34m\u001b[0m\u001b[0m\n\u001b[1;32m    975\u001b[0m                \u001b[0mSNR\u001b[0m\u001b[0;34m=\u001b[0m\u001b[0metc_GFT\u001b[0m\u001b[0;34m.\u001b[0m\u001b[0minformation\u001b[0m\u001b[0;34m[\u001b[0m\u001b[0;34m'SNR'\u001b[0m\u001b[0;34m]\u001b[0m\u001b[0;34m\u001b[0m\u001b[0;34m\u001b[0m\u001b[0m\n",
      "\u001b[0;32m~/codes/mygithub/pyETC/pyETC/pyETC.py\u001b[0m in \u001b[0;36msim\u001b[0;34m(self)\u001b[0m\n\u001b[1;32m    130\u001b[0m \u001b[0;34m\u001b[0m\u001b[0m\n\u001b[1;32m    131\u001b[0m    \u001b[0;32mdef\u001b[0m \u001b[0msim\u001b[0m\u001b[0;34m(\u001b[0m\u001b[0mself\u001b[0m\u001b[0;34m)\u001b[0m\u001b[0;34m:\u001b[0m\u001b[0;34m\u001b[0m\u001b[0;34m\u001b[0m\u001b[0m\n\u001b[0;32m--> 132\u001b[0;31m        \u001b[0mself\u001b[0m\u001b[0;34m.\u001b[0m\u001b[0mload_info\u001b[0m\u001b[0;34m(\u001b[0m\u001b[0;34m)\u001b[0m\u001b[0;34m\u001b[0m\u001b[0;34m\u001b[0m\u001b[0m\n\u001b[0m\u001b[1;32m    133\u001b[0m \u001b[0;34m\u001b[0m\u001b[0m\n\u001b[1;32m    134\u001b[0m        \u001b[0;31m# Compute the desired quantity (either SNR, total_exposure_time or the magnitude):\u001b[0m\u001b[0;34m\u001b[0m\u001b[0;34m\u001b[0m\u001b[0;34m\u001b[0m\u001b[0m\n",
      "\u001b[0;32m~/codes/mygithub/pyETC/pyETC/pyETC.py\u001b[0m in \u001b[0;36mload_info\u001b[0;34m(self)\u001b[0m\n\u001b[1;32m    126\u001b[0m        \u001b[0;31m#Load Object\u001b[0m\u001b[0;34m\u001b[0m\u001b[0;34m\u001b[0m\u001b[0;34m\u001b[0m\u001b[0m\n\u001b[1;32m    127\u001b[0m        \u001b[0;32mif\u001b[0m \u001b[0mself\u001b[0m\u001b[0;34m.\u001b[0m\u001b[0minformation\u001b[0m\u001b[0;34m[\u001b[0m\u001b[0;34m'etc_type'\u001b[0m\u001b[0;34m]\u001b[0m \u001b[0;32min\u001b[0m \u001b[0;34m[\u001b[0m\u001b[0;34m'snr'\u001b[0m\u001b[0;34m,\u001b[0m\u001b[0;34m'time'\u001b[0m\u001b[0;34m]\u001b[0m\u001b[0;34m:\u001b[0m\u001b[0;34m\u001b[0m\u001b[0;34m\u001b[0m\u001b[0m\n\u001b[0;32m--> 128\u001b[0;31m            \u001b[0mself\u001b[0m\u001b[0;34m.\u001b[0m\u001b[0minformation\u001b[0m\u001b[0;34m=\u001b[0m\u001b[0mset_object\u001b[0m\u001b[0;34m(\u001b[0m\u001b[0mself\u001b[0m\u001b[0;34m.\u001b[0m\u001b[0minformation\u001b[0m\u001b[0;34m)\u001b[0m\u001b[0;34m\u001b[0m\u001b[0;34m\u001b[0m\u001b[0m\n\u001b[0m\u001b[1;32m    129\u001b[0m        \u001b[0;32mreturn\u001b[0m \u001b[0;32mNone\u001b[0m\u001b[0;34m\u001b[0m\u001b[0;34m\u001b[0m\u001b[0m\n\u001b[1;32m    130\u001b[0m \u001b[0;34m\u001b[0m\u001b[0m\n",
      "\u001b[0;32m~/codes/mygithub/pyETC/pyETC/set_object.py\u001b[0m in \u001b[0;36mset_object\u001b[0;34m(info_dict)\u001b[0m\n\u001b[1;32m    148\u001b[0m \u001b[0;34m\u001b[0m\u001b[0m\n\u001b[1;32m    149\u001b[0m             \u001b[0;32mif\u001b[0m \u001b[0minfo_dict\u001b[0m\u001b[0;34m[\u001b[0m\u001b[0;34m'IGM_extinction_model'\u001b[0m\u001b[0;34m]\u001b[0m \u001b[0;34m==\u001b[0m\u001b[0;34m'meiksin'\u001b[0m\u001b[0;34m:\u001b[0m\u001b[0;34m\u001b[0m\u001b[0;34m\u001b[0m\u001b[0m\n\u001b[0;32m--> 150\u001b[0;31m                 \u001b[0mgrb_fJy\u001b[0m \u001b[0;34m*=\u001b[0m \u001b[0mmeiksin\u001b[0m\u001b[0;34m(\u001b[0m\u001b[0minfo_dict\u001b[0m\u001b[0;34m[\u001b[0m\u001b[0;34m'wavelength_ang'\u001b[0m\u001b[0;34m]\u001b[0m\u001b[0;34m/\u001b[0m\u001b[0;36m10\u001b[0m\u001b[0;34m,\u001b[0m\u001b[0minfo_dict\u001b[0m\u001b[0;34m[\u001b[0m\u001b[0;34m'grb_redshift'\u001b[0m\u001b[0;34m]\u001b[0m\u001b[0;34m)\u001b[0m\u001b[0;34m\u001b[0m\u001b[0;34m\u001b[0m\u001b[0m\n\u001b[0m\u001b[1;32m    151\u001b[0m             \u001b[0;32melif\u001b[0m \u001b[0minfo_dict\u001b[0m\u001b[0;34m[\u001b[0m\u001b[0;34m'IGM_extinction_model'\u001b[0m\u001b[0;34m]\u001b[0m \u001b[0;34m==\u001b[0m\u001b[0;34m'madau'\u001b[0m\u001b[0;34m:\u001b[0m\u001b[0;34m\u001b[0m\u001b[0;34m\u001b[0m\u001b[0m\n\u001b[1;32m    152\u001b[0m                 \u001b[0mgrb_fJy\u001b[0m \u001b[0;34m*=\u001b[0m \u001b[0mmadau\u001b[0m\u001b[0;34m(\u001b[0m\u001b[0minfo_dict\u001b[0m\u001b[0;34m[\u001b[0m\u001b[0;34m'wavelength_ang'\u001b[0m\u001b[0;34m]\u001b[0m\u001b[0;34m,\u001b[0m\u001b[0minfo_dict\u001b[0m\u001b[0;34m[\u001b[0m\u001b[0;34m'grb_redshift'\u001b[0m\u001b[0;34m]\u001b[0m\u001b[0;34m)\u001b[0m\u001b[0;34m\u001b[0m\u001b[0;34m\u001b[0m\u001b[0m\n",
      "\u001b[0;32m~/codes/mygithub/pyGRBaglow/pyGRBaglow/igm.py\u001b[0m in \u001b[0;36mmeiksin\u001b[0;34m(wavelength, redshift, lylim, lls_fact, Xcut, Xlim)\u001b[0m\n\u001b[1;32m    120\u001b[0m                \u001b[0;34m(\u001b[0m\u001b[0mwavelength\u001b[0m\u001b[0;34m[\u001b[0m\u001b[0mw\u001b[0m\u001b[0;34m]\u001b[0m\u001b[0;34m/\u001b[0m\u001b[0mlambda_limit\u001b[0m\u001b[0;34m)\u001b[0m \u001b[0;34m**\u001b[0m \u001b[0;34m(\u001b[0m\u001b[0;36m3\u001b[0m\u001b[0;34m*\u001b[0m\u001b[0mn\u001b[0m\u001b[0;34m)\u001b[0m \u001b[0;34m-\u001b[0m\u001b[0;34m\u001b[0m\u001b[0;34m\u001b[0m\u001b[0m\n\u001b[1;32m    121\u001b[0m                (wavelength[w]/lambda_limit) ** 2.5))\n\u001b[0;32m--> 122\u001b[0;31m              for n in np.arange(1, n_transitions_low)]), axis=0)\n\u001b[0m\u001b[1;32m    123\u001b[0m \u001b[0;34m\u001b[0m\u001b[0m\n\u001b[1;32m    124\u001b[0m         \u001b[0mtau_l_lls\u001b[0m\u001b[0;34m[\u001b[0m\u001b[0mw\u001b[0m\u001b[0;34m]\u001b[0m \u001b[0;34m=\u001b[0m \u001b[0mn0\u001b[0m \u001b[0;34m*\u001b[0m \u001b[0;34m(\u001b[0m\u001b[0;34m(\u001b[0m\u001b[0mterm1\u001b[0m \u001b[0;34m-\u001b[0m \u001b[0mterm2\u001b[0m\u001b[0;34m)\u001b[0m \u001b[0;34m*\u001b[0m \u001b[0mterm3\u001b[0m \u001b[0;34m-\u001b[0m \u001b[0mterm4\u001b[0m\u001b[0;34m)\u001b[0m\u001b[0;34m\u001b[0m\u001b[0;34m\u001b[0m\u001b[0m\n",
      "\u001b[0;32m~/codes/mygithub/pyGRBaglow/pyGRBaglow/igm.py\u001b[0m in \u001b[0;36m<listcomp>\u001b[0;34m(.0)\u001b[0m\n\u001b[1;32m    120\u001b[0m                \u001b[0;34m(\u001b[0m\u001b[0mwavelength\u001b[0m\u001b[0;34m[\u001b[0m\u001b[0mw\u001b[0m\u001b[0;34m]\u001b[0m\u001b[0;34m/\u001b[0m\u001b[0mlambda_limit\u001b[0m\u001b[0;34m)\u001b[0m \u001b[0;34m**\u001b[0m \u001b[0;34m(\u001b[0m\u001b[0;36m3\u001b[0m\u001b[0;34m*\u001b[0m\u001b[0mn\u001b[0m\u001b[0;34m)\u001b[0m \u001b[0;34m-\u001b[0m\u001b[0;34m\u001b[0m\u001b[0;34m\u001b[0m\u001b[0m\n\u001b[1;32m    121\u001b[0m                (wavelength[w]/lambda_limit) ** 2.5))\n\u001b[0;32m--> 122\u001b[0;31m              for n in np.arange(1, n_transitions_low)]), axis=0)\n\u001b[0m\u001b[1;32m    123\u001b[0m \u001b[0;34m\u001b[0m\u001b[0m\n\u001b[1;32m    124\u001b[0m         \u001b[0mtau_l_lls\u001b[0m\u001b[0;34m[\u001b[0m\u001b[0mw\u001b[0m\u001b[0;34m]\u001b[0m \u001b[0;34m=\u001b[0m \u001b[0mn0\u001b[0m \u001b[0;34m*\u001b[0m \u001b[0;34m(\u001b[0m\u001b[0;34m(\u001b[0m\u001b[0mterm1\u001b[0m \u001b[0;34m-\u001b[0m \u001b[0mterm2\u001b[0m\u001b[0;34m)\u001b[0m \u001b[0;34m*\u001b[0m \u001b[0mterm3\u001b[0m \u001b[0;34m-\u001b[0m \u001b[0mterm4\u001b[0m\u001b[0;34m)\u001b[0m\u001b[0;34m\u001b[0m\u001b[0;34m\u001b[0m\u001b[0m\n",
      "\u001b[0;31mKeyboardInterrupt\u001b[0m: "
     ]
    }
   ],
   "source": [
    "# Use the pyETC package to calculate the SNR and magnitude for each band at each time\n",
    "# Time are expressed in seconds\n",
    "RA_J2000, DEC_J2000 = 0, 0\n",
    "obs_strat.set_lightcurves(SNR4detection=3,err_mag_sys=[0.04,0.06],\n",
    "                          t_since_burst=60,t_start=0,t_end=300,t_dead=5,texp=[30,30],\n",
    "                          configFile=configFile,telescope=name_telescope,\n",
    "                          resdir='/data/lc/%s/' % resdir,\n",
    "                          fname='',RA_J2000=RA_J2000,DEC_J2000=DEC_J2000,galactic_dust_corrected=True)"
   ]
  },
  {
   "cell_type": "markdown",
   "metadata": {
    "collapsed": true
   },
   "source": [
    "\n",
    "# Compute PhotoZ "
   ]
  },
  {
   "cell_type": "code",
   "execution_count": null,
   "metadata": {
    "scrolled": true
   },
   "outputs": [],
   "source": [
    "from pyGRBz.pyGRBz import GRB_photoZ as photoZ\n",
    "\n",
    "photZ = photoZ(output_dir='/results/%s/' % (resdir),plot=display_plot)\n",
    "\n",
    "# Modify the indexes if you want to run on a subsample of the mock \n",
    "GRB_idx_start=0\n",
    "if add_dusty_GRBs:\n",
    "    GRB_idx_end = nb_GRBs + nb_dusty_GRBs\n",
    "else:\n",
    "    GRB_idx_end = nb_GRBs\n",
    "GRB_list=['GRB_'+str(d) for d in range(GRB_idx_start,GRB_idx_end)]\n",
    "\n",
    "photZ.load_data(data_dir='/data/lc/%s/' % resdir,\n",
    "                data_name=GRB_list)\n",
    "\n",
    "photZ.formatting()\n",
    "\n",
    "photZ.extract_sed(model='SPL',method='ReddestBand',time_SED=1)\n",
    "\n",
    "priors=dict(z=[0,11],Av=[0,3],beta=[0,2],norm=[0,10])\n",
    "ext_laws = ['smc', 'lmc', 'mw', 'nodust']\n",
    "#ext_laws = ['smc']\n",
    "for ext_law in ext_laws:\n",
    "    # If you want to run mcmc once and restart a second run \n",
    "    # centered on the values of the best chi2 set Nsteps1 !=0. nburn can be set to 50 here.\n",
    "    # Otherwise set Nsteps1 to 0, and set Nsteps2 only and nburn to some values,\n",
    "    # like Nsteps2=500 and nburn =200\n",
    "    photZ.fit(ext_law=ext_law,sampler_type='ensemble',Nthreads=1,\n",
    "              nwalkers=30,Nsteps1=300,Nsteps2=300,nburn=50,Host_dust=True,\n",
    "              clean_data=True, igm_att='Meiksin',priors=priors)"
   ]
  },
  {
   "cell_type": "markdown",
   "metadata": {},
   "source": [
    "# Keep the best chi2 among the different extinction laws"
   ]
  },
  {
   "cell_type": "code",
   "execution_count": null,
   "metadata": {},
   "outputs": [],
   "source": [
    "from astropy.table import Table, vstack\n",
    "\n",
    "output_dir=path_pyGRBz + '/results/%s/' % resdir\n",
    "\n",
    "GRB_list=['GRB_'+str(d) for d in range(GRB_idx_start,GRB_idx_end)]\n",
    "ext_laws = ['smc', 'mw', 'lmc','nodust']\n",
    "#ext_laws = ['smc']\n",
    "\n",
    "\n",
    "for ext in ext_laws:\n",
    "    if ext == 'smc':\n",
    "        fit_results_smc=ascii.read(output_dir+'best_fits_all_%s.dat' % ext)\n",
    "    elif ext == 'mw':\n",
    "        fit_results_mw=ascii.read(output_dir+'best_fits_all_%s.dat' % ext)\n",
    "    elif ext == 'lmc':\n",
    "        fit_results_lmc=ascii.read(output_dir+'best_fits_all_%s.dat' % ext)\n",
    "    elif ext == 'nodust':\n",
    "        fit_results_nodust=ascii.read(output_dir+'best_fits_all_%s.dat' % ext)\n",
    "        \n",
    "GRB_list = fit_results_smc['name']\n",
    "\n",
    "if False: #len(fit_results_smc) != len(fit_results_mw):\n",
    "    print ('Not same number of detected GRBs')\n",
    "else:\n",
    "    new_table=[]\n",
    "    for GRB in GRB_list:\n",
    "        if 'smc' in ext_laws:\n",
    "            mask_smc = fit_results_smc['name'] == GRB\n",
    "            sum_proba_smc = fit_results_smc['sum_proba'][mask_smc]\n",
    "        else:\n",
    "            mask_smc = []\n",
    "            sum_proba_smc = []\n",
    "\n",
    "        if 'mw' in ext_laws:\n",
    "            mask_mw = fit_results_mw['name'] == GRB\n",
    "            sum_proba_mw = fit_results_mw['sum_proba'][mask_mw]\n",
    "        else:\n",
    "            mask_mw = []\n",
    "            sum_proba_mw = np.nan\n",
    "\n",
    "        if 'lmc' in ext_laws:\n",
    "            mask_lmc = fit_results_lmc['name'] == GRB\n",
    "            sum_proba_lmc = fit_results_lmc['sum_proba'][mask_lmc]\n",
    "        else:\n",
    "            mask_lmc = []\n",
    "            sum_proba_lmc =np.nan\n",
    "\n",
    "        if 'nodust' in ext_laws:\n",
    "            mask_nodust = fit_results_nodust['name'] == GRB\n",
    "            sum_proba_nodust = fit_results_nodust['sum_proba'][mask_nodust]\n",
    "        else:\n",
    "            mask_nodust = []\n",
    "            sum_proba_nodust =np.nan            \n",
    "            \n",
    "        if ('smc' in ext_laws) and (np.nanmax([sum_proba_smc, sum_proba_lmc,sum_proba_mw, sum_proba_nodust]) == sum_proba_smc) :\n",
    "            #print (GRB,'smc')\n",
    "            new_table.append(fit_results_smc[mask_smc])\n",
    "        elif ('mw' in ext_laws) and  (np.nanmax([sum_proba_smc, sum_proba_lmc,sum_proba_mw, sum_proba_nodust]) == sum_proba_mw) :\n",
    "            #print (GRB,'mw')\n",
    "            new_table.append(fit_results_mw[mask_mw])\n",
    "        elif ('lmc' in ext_laws) and  (np.nanmax([sum_proba_smc, sum_proba_lmc,sum_proba_mw, sum_proba_nodust]) == sum_proba_lmc) :\n",
    "            #print (GRB,'lmc')\n",
    "            new_table.append(fit_results_lmc[mask_lmc])\n",
    "        elif ('nodust' in ext_laws) and  (np.nanmax([sum_proba_smc, sum_proba_lmc,sum_proba_mw, sum_proba_nodust]) == sum_proba_nodust) :\n",
    "            #print (GRB,'lmc')\n",
    "            new_table.append(fit_results_lmc[mask_lmc])            \n",
    "new_table=vstack(new_table)\n",
    "print (new_table)\n",
    "new_table.write(output_dir+'best_fits_all_combined.dat',format='ascii')    "
   ]
  },
  {
   "cell_type": "markdown",
   "metadata": {},
   "source": [
    "# Plot the photoz accuracy"
   ]
  },
  {
   "cell_type": "code",
   "execution_count": null,
   "metadata": {},
   "outputs": [],
   "source": [
    "# Draw the 3 summary plots for the photoZ accuracy \n",
    "photZ.plot_zsim_zphot(input_file='best_fits_all_combined',output_suffix='_1sig',sigma=1,input_dir='/results/%s/' % resdir,output_dir='/results/%s/' % resdir)\n"
   ]
  },
  {
   "cell_type": "markdown",
   "metadata": {},
   "source": [
    "# Create file summarising statistics "
   ]
  },
  {
   "cell_type": "code",
   "execution_count": null,
   "metadata": {},
   "outputs": [],
   "source": [
    "# load input\n",
    "params_file=path_pyGRBz+'/results/%s/Obs_strategy/Params.tex' % resdir\n",
    "data_in=ascii.read(params_file)\n",
    "\n",
    "# Output file to store information\n",
    "output_dir=path_pyGRBz+'/results/%s/' % resdir\n",
    "f = open(output_dir+'results_summary.txt', 'w')\n",
    "\n",
    "# Define redhsift ranges\n",
    "zlim=[3.5,8]\n",
    "\n",
    "# Total of GRBs in redshift ranges\n",
    "mask1 = data_in['z'] < zlim[0]\n",
    "mask2 = (data_in['z'] >= zlim[0]) & (data_in['z'] <= zlim[1])\n",
    "mask3 = data_in['z'] > zlim[1]\n",
    "\n",
    "nb_grb1=len(data_in[mask1])\n",
    "nb_grb2=len(data_in[mask2])\n",
    "nb_grb3=len(data_in[mask3])\n",
    "\n",
    "f.write ('Nb GRBs at z < %.2f: %d\\n' % (zlim[0],nb_grb1))\n",
    "f.write ('Nb GRBs at %.2f < z < %.2f: %d\\n' % (zlim[0], zlim[1], nb_grb2))\n",
    "f.write ('Nb GRBs at z > %.2f: %d\\n' % (zlim[1], nb_grb3))\n",
    "f.write ('Nb GRBs total %d\\n' % (nb_grb1+nb_grb2+nb_grb3))\n",
    "f.write ('\\n')\n",
    "\n",
    "###########################################################################\n",
    "# Number of dusty GRBs detected\n",
    "nb_det=1 # Number of band in which there is a detection\n",
    "Avlim = 1\n",
    "data=ascii.read(output_dir+'best_fits_all_combined.dat')\n",
    "mask1 = (data_in['Av_host'] >= Avlim)\n",
    "mask2 = (data['Av_host_sim'] >= Avlim) & (data['nb_detection'] >= nb_det)\n",
    "\n",
    "nb_grb_dusty=len(data_in[mask1])\n",
    "nb_grb_dusty_det=len(data[mask2])\n",
    "\n",
    "f.write ('Nb dusty GRBs detected: %d / %d\\n' % (nb_grb_dusty_det,nb_grb_dusty))\n",
    "f.write ('\\n')\n",
    "###########################################################################\n",
    "\n",
    "data=ascii.read(output_dir+'best_fits_all_combined.dat')\n",
    "level=68\n",
    "nb_det=2\n",
    "\n",
    "mask0 = (data['nb_detection'] > nb_det)\n",
    "mask1 = (data['z_sim']<zlim[0]) & (data['nb_detection'] > nb_det)\n",
    "mask2 = (data['z_sim'] >=zlim[0]) & (data['z_sim'] <= zlim[1]) & (data['nb_detection'] > nb_det)\n",
    "mask3 = (data['z_sim'] > zlim[1]) & (data['nb_detection'] > nb_det)\n",
    "\n",
    "f.write ('Total number of GRBs detected in at least %d bands: \\n'  % nb_det)\n",
    "if mask1.any() and nb_grb1 > 0:\n",
    "    f.write ('at z < %.2f: %d/%d (%.2f%%) \\n' % (zlim[0],len(data[mask1]),nb_grb1, 100*len(data[mask1])/nb_grb1))\n",
    "else:\n",
    "    f.write ('at z < %.2f: %d/%d (%.2f%%) \\n' % (zlim[0],0,nb_grb1, 0))\n",
    "if mask2.any() and nb_grb2 > 0: \n",
    "    f.write ('at %.2f < z < %.2f: %d/%d (%.2f%%) \\n' % (zlim[0],zlim[1],len(data[mask2]),nb_grb2, 100*len(data[mask2])/nb_grb2))\n",
    "else:\n",
    "    f.write ('at %.2f < z < %.2f: %d/%d (%.2f%%) \\n' % (zlim[0],zlim[1],0,nb_grb2,0))\n",
    "if mask3.any() and nb_grb3 > 0:\n",
    "    f.write ('at z > %.2f: %d/%d (%.2f%%) \\n' % (zlim[1],len(data[mask3]),nb_grb3, 100*len(data[mask3])/nb_grb3))\n",
    "else:\n",
    "    f.write ('at z > %.2f: %d/%d (%.2f%%) \\n' % (zlim[1],0,nb_grb3, 0))\n",
    "total_det = len(data[mask0])\n",
    "f.write ('All z: %d/%d (%.2f%%)\\n' % (total_det,nb_grb1+nb_grb2+nb_grb3,100*(total_det/(nb_grb1+nb_grb2+nb_grb3))))\n",
    "f.write ('\\n')\n",
    "\n",
    "f.write ('Mean and standard deviations statistics (detection in at least %d bands):\\n' % nb_det)\n",
    "if mask1.any():\n",
    "    abs_err = np.mean(data[mask1]['zphot_%s' % level] - data[mask1]['z_sim'])\n",
    "    abs_err_std = np.std(data[mask1]['zphot_%s' % level] - data[mask1]['z_sim'])\n",
    "    relative_err = np.mean((data[mask1]['zphot_%s' % level] -data[mask1]['z_sim'])/ (1+data[mask1]['z_sim']))\n",
    "    relative_err_std = np.std((data[mask1]['zphot_%s' % level] -data[mask1]['z_sim'])/ (1+data[mask1]['z_sim']))\n",
    "    f.write ('At z < %.2f: \\n' % zlim[0])\n",
    "    f.write ('zphot-zsim mean: %.3f\\n' % (abs_err))\n",
    "    f.write ('zphot-zsim std: %.3f\\n' % (abs_err_std))\n",
    "    f.write ('(zphot-zsim)/(1+zsim) mean: %.3f\\n' % (relative_err))\n",
    "    f.write ('(zphot-zsim)/(1+zsim) std: %.3f\\n' % (relative_err_std))\n",
    "    f.write ('\\n')\n",
    "if mask2.any():\n",
    "    abs_err = np.mean(data[mask2]['zphot_%s' % level] - data[mask2]['z_sim'])\n",
    "    abs_err_std = np.std(data[mask2]['zphot_%s' % level] - data[mask2]['z_sim'])\n",
    "    relative_err = np.mean((data[mask2]['zphot_%s' % level] -data[mask2]['z_sim'])/ (1+data[mask2]['z_sim']))\n",
    "    relative_err_std = np.std((data[mask2]['zphot_%s' % level] -data[mask2]['z_sim'])/ (1+data[mask2]['z_sim']))\n",
    "    f.write ('At %.2f < z < %.2f: \\n' % (zlim[0],zlim[1]))\n",
    "    f.write ('zphot-zsim mean: %.3f\\n' % (abs_err))\n",
    "    f.write ('zphot-zsim std: %.3f\\n' % (abs_err_std))\n",
    "    f.write ('(zphot-zsim)/(1+zsim) mean: %.3f\\n' % (relative_err))\n",
    "    f.write ('(zphot-zsim)/(1+zsim) std: %.3f\\n' % (relative_err_std))\n",
    "    f.write ('\\n')\n",
    "if mask3.any():\n",
    "    abs_err = np.mean(data[mask3]['zphot_%s' % level] - data[mask3]['z_sim'])\n",
    "    abs_err_std = np.std(data[mask3]['zphot_%s' % level] - data[mask3]['z_sim'])\n",
    "    relative_err = np.mean((data[mask3]['zphot_%s' % level] -data[mask3]['z_sim'])/ (1+data[mask3]['z_sim']))\n",
    "    relative_err_std = np.std((data[mask3]['zphot_%s' % level] -data[mask3]['z_sim'])/ (1+data[mask3]['z_sim']))\n",
    "    f.write ('At z > %.2f: \\n' % zlim[1])\n",
    "    f.write ('zphot-zsim mean: %.3f\\n' % (abs_err))\n",
    "    f.write ('zphot-zsim std: %.3f\\n' % (abs_err_std))\n",
    "    f.write ('(zphot-zsim)/(1+zsim) mean: %.3f\\n' % (relative_err))\n",
    "    f.write ('(zphot-zsim)/(1+zsim) std: %.3f\\n' % (relative_err_std))\n",
    "    f.write ('\\n')\n",
    "f.close()"
   ]
  },
  {
   "cell_type": "code",
   "execution_count": null,
   "metadata": {},
   "outputs": [],
   "source": []
  }
 ],
 "metadata": {
  "kernelspec": {
   "display_name": "Python 3",
   "language": "python",
   "name": "python3"
  },
  "language_info": {
   "codemirror_mode": {
    "name": "ipython",
    "version": 3
   },
   "file_extension": ".py",
   "mimetype": "text/x-python",
   "name": "python",
   "nbconvert_exporter": "python",
   "pygments_lexer": "ipython3",
   "version": "3.7.3"
  }
 },
 "nbformat": 4,
 "nbformat_minor": 2
}
